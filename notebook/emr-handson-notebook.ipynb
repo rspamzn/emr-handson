{
 "cells": [
  {
   "cell_type": "code",
   "execution_count": null,
   "metadata": {
    "scrolled": true
   },
   "outputs": [],
   "source": [
    "import sys\n",
    "from pyspark.sql import SparkSession\n",
    "from pyspark.sql.types import *"
   ]
  },
  {
   "cell_type": "code",
   "execution_count": null,
   "metadata": {},
   "outputs": [],
   "source": [
    "def readInput(sc):\n",
    "        # Read input by line\n",
    "        lines = sc.textFile(\"s3://emr-handson-rsp/input/chopratings.csv\")\n",
    "        parts = lines.map(lambda l: l.split(\",\"))\n",
    "        # Each line is converted to a tuple.\n",
    "        chopstickItems = parts.map(lambda p: (str(p[0]), float(p[1]), int(p[2]), int(p[3].strip())))\n",
    "        # Define a schema\n",
    "        fields = [StructField(\"TestID\", StringType()),\n",
    "                  StructField(\"FoodPinchingEffeciency\", DoubleType()),\n",
    "                  StructField(\"Individual\", IntegerType()),\n",
    "                  StructField(\"ChopstickLength\", IntegerType())]\n",
    "        schema = StructType(fields)\n",
    "        # Apply the schema to the RDD.\n",
    "        chopsticksDF = spark.createDataFrame(chopstickItems, schema)\n",
    "        return chopsticksDF"
   ]
  },
  {
   "cell_type": "code",
   "execution_count": null,
   "metadata": {},
   "outputs": [],
   "source": [
    "def AvgEffeciencyByLength(df):\n",
    "        meansDf = df.groupby('ChopstickLength').mean('FoodPinchingEffeciency').orderBy('avg(FoodPinchingEffeciency)',ascending=0)\n",
    "        return meansDf"
   ]
  },
  {
   "cell_type": "code",
   "execution_count": null,
   "metadata": {},
   "outputs": [],
   "source": [
    "chopsticksDF = readInput(sc)"
   ]
  },
  {
   "cell_type": "code",
   "execution_count": null,
   "metadata": {},
   "outputs": [],
   "source": [
    "chopsticksDF.show()"
   ]
  },
  {
   "cell_type": "code",
   "execution_count": null,
   "metadata": {},
   "outputs": [],
   "source": [
    "effeciencyByLength = AvgEffeciencyByLength(chopsticksDF)"
   ]
  },
  {
   "cell_type": "code",
   "execution_count": null,
   "metadata": {},
   "outputs": [],
   "source": [
    "effeciencyByLength.coalesce(1).write.format(\"csv\").save( \"s3://emr-handson-rsp/notebook-output\" )"
   ]
  },
  {
   "cell_type": "code",
   "execution_count": null,
   "metadata": {},
   "outputs": [],
   "source": [
    "chopsticksDF.show()"
   ]
  }
 ],
 "metadata": {
  "kernelspec": {
   "display_name": "PySpark",
   "language": "",
   "name": "pysparkkernel"
  },
  "language_info": {
   "codemirror_mode": {
    "name": "python",
    "version": 2
   },
   "mimetype": "text/x-python",
   "name": "pyspark",
   "pygments_lexer": "python2"
  }
 },
 "nbformat": 4,
 "nbformat_minor": 4
}
